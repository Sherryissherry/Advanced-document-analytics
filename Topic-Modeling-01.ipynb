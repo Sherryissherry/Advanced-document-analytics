{
 "cells": [
  {
   "cell_type": "markdown",
   "metadata": {},
   "source": [
    "\n",
    "# Computational Linguistics - Topic Modeling\n",
    "\n",
    "In this lab, we will explore two topic modeling methods: LDA and NMF. Please check the readings to learn about these methods. \n",
    "\n",
    "To understand LDA and NMF we will create a toy dataset by downloading some wikipedia text. "
   ]
  },
  {
   "cell_type": "code",
   "execution_count": 1,
   "metadata": {},
   "outputs": [],
   "source": [
    "import wikipedia\n",
    "import numpy as np\n",
    "from nltk import word_tokenize\n",
    "from nltk.corpus import stopwords\n",
    "from sklearn.feature_extraction.text import TfidfVectorizer, CountVectorizer\n",
    "from sklearn.decomposition import NMF, LatentDirichletAllocation\n",
    "\n",
    "wikipedia.set_lang(\"en\")"
   ]
  },
  {
   "cell_type": "code",
   "execution_count": 2,
   "metadata": {},
   "outputs": [],
   "source": [
    "# # this class fetches summary text from a wiki page\n",
    "\n",
    "# class TextFetcher:\n",
    "\n",
    "#     def __init__(self, title):\n",
    "#         self.title = title\n",
    "#         page = wikipedia.page(title)\n",
    "#         self.text = page.summary\n",
    "\n",
    "#     def getText(self):\n",
    "#         return self.text"
   ]
  },
  {
   "cell_type": "code",
   "execution_count": 3,
   "metadata": {},
   "outputs": [],
   "source": [
    "def preprocessor(text):\n",
    "#     nltk.download('stopwords')  # you might have uncomment this \n",
    "    tokens = word_tokenize(text)\n",
    "    return (\" \").join([word for word in tokens if word not in stopwords.words()])"
   ]
  },
  {
   "cell_type": "markdown",
   "metadata": {},
   "source": [
    "## Create a toy dataset\n",
    "\n",
    "Let's create toy dataset of 6 wiki articles. For simplitycity we will extract the summary text (see above code). "
   ]
  },
  {
   "cell_type": "code",
   "execution_count": 4,
   "metadata": {},
   "outputs": [],
   "source": [
    "nyc = wikipedia.page(\"New York City\", auto_suggest=False)\n",
    "text1 = nyc.summary\n",
    "nlp = wikipedia.page(\"Natural Language Processing\", auto_suggest=False)\n",
    "text2 = nlp.summary\n",
    "tgg = wikipedia.page(\"The Great Gatsby\", auto_suggest=False)\n",
    "text3 = tgg.summary\n",
    "ml = wikipedia.page(\"Machine Learning\", auto_suggest=False)\n",
    "text4 = ml.summary\n",
    "la = wikipedia.page(\"Los Angeles\", auto_suggest=False)\n",
    "text5 = la.summary\n",
    "covid = wikipedia.page(\"Coronavirus\",  auto_suggest=False)\n",
    "text6 = covid.summary\n",
    "\n",
    "docs = [text1, text2, text3, text4, text5, text6]"
   ]
  },
  {
   "cell_type": "markdown",
   "metadata": {},
   "source": [
    "## Create a term frequency matrix\n",
    "\n",
    "LDA works on term frequency matrix."
   ]
  },
  {
   "cell_type": "code",
   "execution_count": 5,
   "metadata": {},
   "outputs": [],
   "source": [
    "count_vectorizer = CountVectorizer(stop_words='english')\n",
    "# count_vectorizer = CountVectorizer(stop_words='english', max_features=100)\n",
    "term_frequency = count_vectorizer.fit_transform(docs)\n",
    "feature_names = count_vectorizer.get_feature_names()"
   ]
  },
  {
   "cell_type": "code",
   "execution_count": 6,
   "metadata": {},
   "outputs": [
    {
     "name": "stdout",
     "output_type": "stream",
     "text": [
      "Shape of term freq matrix = (6, 635)\n",
      "Num of features identified = 635\n"
     ]
    }
   ],
   "source": [
    "print(f\"Shape of term freq matrix = {term_frequency.shape}\")\n",
    "print(f\"Num of features identified = {len(feature_names)}\")"
   ]
  },
  {
   "cell_type": "markdown",
   "metadata": {},
   "source": [
    "In the `CountVectorizer` method, we can use `max_features` to set the number of features if required."
   ]
  },
  {
   "cell_type": "markdown",
   "metadata": {},
   "source": [
    "## Fit an LDA model\n",
    "\n",
    "Let's fit an LDA model with 5 topics (aka components). "
   ]
  },
  {
   "cell_type": "code",
   "execution_count": 7,
   "metadata": {},
   "outputs": [
    {
     "data": {
      "text/plain": [
       "LatentDirichletAllocation(n_components=5, random_state=0)"
      ]
     },
     "execution_count": 7,
     "metadata": {},
     "output_type": "execute_result"
    }
   ],
   "source": [
    "lda = LatentDirichletAllocation(n_components=5, random_state=0)  # random_state is for replicating the result\n",
    "lda.fit(term_frequency)    "
   ]
  },
  {
   "cell_type": "markdown",
   "metadata": {},
   "source": [
    "## Analyze the topics\n",
    "\n",
    "Now, let's print the top 10 words based on the words's weight learned by the LDA. "
   ]
  },
  {
   "cell_type": "code",
   "execution_count": 8,
   "metadata": {
    "scrolled": true,
    "tags": []
   },
   "outputs": [
    {
     "name": "stdout",
     "output_type": "stream",
     "text": [
      "Num of topics = 5\n"
     ]
    },
    {
     "data": {
      "text/plain": [
       "array([0.20000044, 0.20000031, 0.2000002 , 0.2000002 , 0.20000031,\n",
       "       0.20000031, 0.20000031, 0.20000031, 0.20000031, 0.20000031,\n",
       "       0.2000002 , 0.20000031, 0.20000031, 0.2000002 , 0.2000002 ,\n",
       "       0.2000002 , 0.2000002 , 0.2000002 , 0.20000031, 0.20000051,\n",
       "       0.2000002 , 0.20000044, 0.20000038, 0.20000044, 0.20000038,\n",
       "       0.2000002 , 0.20000044, 0.2000002 , 0.20000032, 1.19999848,\n",
       "       0.2000002 , 0.20000031, 0.20000031, 0.20000048, 0.20000044,\n",
       "       0.2000002 , 0.2000002 , 0.20000031, 0.20000031, 0.20000033,\n",
       "       0.20000031, 0.20000031, 0.20000033, 0.20000031, 0.2000002 ,\n",
       "       0.20000031, 0.20000031, 0.2000002 , 0.2000002 , 0.2000002 ,\n",
       "       0.23468949, 0.20000044, 0.20000031, 0.2000002 , 0.20000044,\n",
       "       0.2000002 , 0.20000044, 1.19999848, 1.19999848, 1.19999848,\n",
       "       0.20000044, 0.20000044, 0.20000052, 0.2000002 , 0.20000027,\n",
       "       1.19999848, 1.19999848, 0.20000031, 0.20000046, 2.19999868,\n",
       "       2.19879399, 1.1999854 , 0.20000064, 0.2000002 , 0.2000002 ,\n",
       "       0.20000041, 0.2000002 , 0.20000044, 2.19879399, 0.20000031,\n",
       "       0.20000044, 0.20000044, 0.20000044, 0.20000044, 0.20000044,\n",
       "       0.20000031, 0.2259562 , 0.2000002 , 0.20000044, 1.19999848,\n",
       "       0.20000038, 0.2000002 , 0.20000031, 0.20000029, 0.20000044,\n",
       "       0.20000044, 0.2000002 , 0.20000027, 0.20000027, 0.2000002 ,\n",
       "       0.20000031, 0.20000031, 0.20000031, 0.2000002 , 0.20000044,\n",
       "       0.2000002 , 1.19999433, 0.2000002 , 0.20000016, 0.20000027,\n",
       "       0.20000031, 0.20000031, 0.20000031, 0.20000044, 0.20000033,\n",
       "       0.20000027, 0.20000033, 0.20000044, 0.20000043, 0.20000033,\n",
       "       0.20000031, 0.20000031, 0.20000039, 0.2000002 , 0.20000044,\n",
       "       0.23468949, 0.23468949, 0.20000033, 0.20000031, 0.20000033,\n",
       "       0.23468949, 0.20000031, 0.20000031, 0.20000031, 0.20000064,\n",
       "       0.20000033, 0.20000031, 0.20000044, 0.20000044, 0.2000002 ,\n",
       "       1.19999848, 0.20000031, 0.23468949, 2.19879399, 0.23468949,\n",
       "       2.19879399, 0.20000038, 0.20000031, 0.20000033, 0.2000002 ,\n",
       "       0.20000044, 0.20000044, 0.20000031, 0.20000038, 0.20000064,\n",
       "       0.20000033, 0.20000033, 0.20000028, 0.23468949, 1.19999848,\n",
       "       0.20000044, 0.20000031, 0.20000047, 0.2000002 , 0.20000051,\n",
       "       0.20000033, 0.20000033, 0.20000044, 0.20000044, 0.20000044,\n",
       "       0.20000018, 0.2000002 , 0.20000032, 0.20000044, 0.20000044,\n",
       "       0.20000044, 0.20000044, 6.19928037, 0.20000044, 2.19879399,\n",
       "       0.2000002 , 0.20000031, 0.20000031, 0.20000044, 0.20000033,\n",
       "       1.19999848, 0.2000002 , 0.20000018, 1.19999848, 0.20000033,\n",
       "       0.20000044, 0.20000044, 0.20000031, 0.20000044, 0.2000002 ,\n",
       "       0.20000033, 0.20000032, 0.20000031, 0.20000048, 0.20000031,\n",
       "       0.2000002 , 0.20000044, 0.20000044, 0.20000031, 0.20000044,\n",
       "       0.20000031, 0.20000044, 0.2000002 , 0.2000002 , 0.20000031,\n",
       "       0.20000047, 1.19999848, 0.20000044, 0.20000044, 0.20000033,\n",
       "       1.19999848, 0.20000044, 0.20000033, 0.23468949, 0.2000002 ,\n",
       "       0.20000031, 0.20000031, 0.20000033, 0.20000044, 0.20000044,\n",
       "       0.20000031, 0.20000048, 0.2000002 , 0.2000002 , 0.20000044,\n",
       "       0.20000031, 0.20000031, 0.20000018, 0.2000002 , 0.20000031,\n",
       "       0.20000027, 0.20000044, 1.19999848, 1.19999848, 0.2000002 ,\n",
       "       0.20000044, 0.20000044, 0.20000033, 0.20000031, 0.20000044,\n",
       "       0.2000002 , 0.2000002 , 0.20000044, 3.19999874, 1.19999848,\n",
       "       0.20000031, 0.2000006 , 1.19999848, 0.20000031, 0.20000047,\n",
       "       1.19999848, 0.20000031, 0.20000034, 1.19999848, 0.20000044,\n",
       "       0.20000058, 0.20000031, 0.20000044, 0.20000031, 0.20000031,\n",
       "       1.19999848, 0.20000051, 0.2000002 , 1.19999848, 0.20000044,\n",
       "       0.2000002 , 0.20000044, 0.20000044, 0.2000002 , 0.20000031,\n",
       "       0.20000035, 0.2000002 , 0.2000002 , 0.20000044, 1.19999848,\n",
       "       0.20000044, 0.23468949, 0.20000029, 0.20000031, 0.20000044,\n",
       "       0.20000027, 0.2000002 , 0.20000031, 0.20000035, 0.20000051,\n",
       "       0.20000044, 0.20000051, 0.20000033, 0.2000002 , 0.2000002 ,\n",
       "       0.20000031, 0.20000031, 0.20000031, 0.20000033, 0.20000033,\n",
       "       0.2000002 , 0.20000032, 0.20000031, 0.2000002 , 0.20000025,\n",
       "       0.20000044, 0.2000002 , 0.2000002 , 0.2000002 , 0.20000029,\n",
       "       0.20000032, 0.20000033, 0.20000033, 0.20000044, 0.20000031,\n",
       "       0.2000002 , 0.20000044, 0.20000033, 0.2000002 , 1.19999848,\n",
       "       0.20000064, 0.2000002 , 0.2000002 , 0.20000031, 0.2000002 ,\n",
       "       0.20000033, 0.23468949, 0.2000002 , 0.20000044, 0.2000002 ,\n",
       "       0.20000044, 1.19999848, 2.19879399, 0.20000044, 0.23468949,\n",
       "       0.20000031, 0.20000031, 0.2000003 , 0.20000044, 0.20000044,\n",
       "       0.20000044, 0.2000002 , 0.20000033, 0.20000032, 0.20000051,\n",
       "       0.23468949, 1.19999848, 0.20000031, 6.19507211, 0.20000031,\n",
       "       0.20000074, 0.2000002 , 0.20000044, 1.19999848, 8.19946933,\n",
       "       0.20000031, 0.20000029, 0.2000002 , 0.2000002 , 0.20000031,\n",
       "       0.2259562 , 0.20000031, 0.20000038, 0.20000031, 0.20000038,\n",
       "       0.20000046, 0.20000044, 4.1994489 , 0.2091634 , 0.2000002 ,\n",
       "       0.20000053, 0.20000033, 0.20000025, 0.20000031, 0.20000031,\n",
       "       0.20000044, 2.19999868, 0.20000044, 0.20000031, 1.19999848,\n",
       "       0.20000031, 0.20000031, 0.20000033, 1.19999848, 0.2000002 ,\n",
       "       0.2000004 , 0.20000018, 0.2000002 , 0.20000033, 0.20000033,\n",
       "       0.20000029, 0.20000051, 0.20000041, 0.20000044, 0.20000031,\n",
       "       1.19999848, 3.19999874, 0.20000031, 0.20000044, 0.2000002 ,\n",
       "       0.2000002 , 0.2000002 , 0.2000002 , 0.20000044, 0.20000032,\n",
       "       0.20000044, 0.20000031, 0.20000031, 0.20000031, 5.7075412 ,\n",
       "       0.20000044, 0.20000031, 0.20000031, 1.19999848, 2.19879399,\n",
       "       0.2000002 , 0.20000042, 0.20000044, 0.20000033, 0.23468949,\n",
       "       0.20000064, 0.20000031, 0.20000034, 0.20000044, 0.20000031,\n",
       "       0.20000033, 0.20000031, 0.20000044, 0.20000031, 0.20000044,\n",
       "       0.2000002 , 0.20000044, 0.2000002 , 0.2000002 , 1.19999848,\n",
       "       0.20000033, 0.2000002 , 0.20000031, 0.20000033, 0.20000031,\n",
       "       0.20000031, 0.20000044, 1.19999848, 0.2000002 , 0.20000044,\n",
       "       0.20000018, 0.20000044, 0.20000044, 0.2000002 , 0.20000048,\n",
       "       1.19999848, 1.19999848, 0.20000044, 0.20000031, 0.20000044,\n",
       "       0.20000044, 0.20000033, 0.20000038, 0.20000038, 0.20000031,\n",
       "       0.20000045, 0.20000042, 0.2000002 , 0.20000033, 0.20000031,\n",
       "       0.20000031, 1.19999848, 0.20000033, 0.20000027, 1.20004359,\n",
       "       0.23468949, 0.2000002 , 1.19999848, 1.19999848, 0.23468949,\n",
       "       3.19845182, 0.20000051, 0.20000018, 1.19999848, 1.19999848,\n",
       "       0.20000033, 0.2000002 , 1.19999848, 0.23468949, 0.20000044,\n",
       "       0.2000002 , 0.20000031, 1.19999848, 0.20000044, 0.20000054,\n",
       "       0.20000033, 0.2000002 , 0.20000033, 0.20000044, 2.19879399,\n",
       "       0.2000002 , 2.19879367, 0.20000044, 0.20000033, 0.20000027,\n",
       "       0.23468949, 0.20000047, 0.20000031, 0.20000033, 0.2000002 ,\n",
       "       0.23468949, 0.20000044, 0.2000002 , 0.20000044, 0.20000044,\n",
       "       0.20000044, 0.20000033, 0.20000033, 0.20000044, 0.2000002 ,\n",
       "       0.20000044, 0.20000028, 0.2000002 , 0.20000044, 0.20000044,\n",
       "       0.23468949, 0.20000031, 0.20000017, 0.2000002 , 0.20000033,\n",
       "       0.20000044, 0.20000038, 0.20000044, 0.20000044, 0.23468949,\n",
       "       0.20000031, 0.20000044, 0.20000044, 0.2000002 , 0.20000051,\n",
       "       0.20000044, 0.20000033, 0.2000002 , 0.20000044, 0.20000044,\n",
       "       0.20000031, 0.20000033, 0.20000031, 0.20000044, 0.2000002 ,\n",
       "       0.20000031, 0.20000033, 0.2000002 , 0.20000033, 0.20000044,\n",
       "       0.20000044, 0.20000044, 0.20000044, 0.20000044, 0.20000048,\n",
       "       0.2000002 , 0.2000002 , 2.19879399, 0.20000033, 0.20000031,\n",
       "       0.2000002 , 0.20000051, 0.20000044, 0.20000051, 0.2000002 ,\n",
       "       0.20000031, 0.20000042, 1.8122491 , 1.19999848, 0.2000002 ,\n",
       "       0.20000033, 0.20000027, 0.20000033, 0.20000027, 3.19999874,\n",
       "       0.20000033, 0.2259562 , 0.20000044, 0.20000044, 0.2000002 ,\n",
       "       0.20000033, 0.20000044, 1.19999848, 0.20000033, 2.19879399,\n",
       "       0.20000031, 0.2000002 , 0.20000031, 0.20000031, 0.21259463,\n",
       "       1.19999848, 0.20000031, 0.20000038, 0.2000002 , 0.2000002 ,\n",
       "       0.20000031, 0.20000033, 0.20000031, 0.20000044, 0.2000002 ,\n",
       "       0.20000051, 0.23468949, 0.20000031, 0.23468949, 0.20000042,\n",
       "       0.20000044, 1.19999848, 1.19999848, 0.20000051, 0.23468949,\n",
       "       0.20000018, 0.20000033, 0.20000044, 1.19999848, 0.2000002 ,\n",
       "       0.20000027, 1.19999848, 0.2000002 , 0.2000002 , 0.20000031,\n",
       "       0.20000061, 0.20000044, 0.2000002 , 0.20000044, 0.2000002 ,\n",
       "       0.20000044, 0.20000044, 0.20000044, 0.20000036, 0.20000041,\n",
       "       0.20000031, 0.20000044, 0.2000002 , 0.20000041, 0.20000044])"
      ]
     },
     "execution_count": 8,
     "metadata": {},
     "output_type": "execute_result"
    }
   ],
   "source": [
    "print(f\"Num of topics = {len(lda.components_)}\")\n",
    "\n",
    "# words' weights associated with topic 0\n",
    "lda.components_[0]"
   ]
  },
  {
   "cell_type": "code",
   "execution_count": 9,
   "metadata": {
    "tags": []
   },
   "outputs": [
    {
     "data": {
      "text/plain": [
       "['000',\n",
       " '035',\n",
       " '12',\n",
       " '1542',\n",
       " '16',\n",
       " '1624',\n",
       " '1626',\n",
       " '1653',\n",
       " '1664',\n",
       " '1674',\n",
       " '1781',\n",
       " '1785',\n",
       " '1790',\n",
       " '18',\n",
       " '1821',\n",
       " '1848',\n",
       " '1850',\n",
       " '1890s',\n",
       " '1898',\n",
       " '19',\n",
       " '1913',\n",
       " '1920',\n",
       " '1922',\n",
       " '1924',\n",
       " '1925']"
      ]
     },
     "execution_count": 9,
     "metadata": {},
     "output_type": "execute_result"
    }
   ],
   "source": [
    "feature_names[:25]"
   ]
  },
  {
   "cell_type": "code",
   "execution_count": 10,
   "metadata": {},
   "outputs": [],
   "source": [
    "def display_topics(model, feature_names, no_top_words):\n",
    "    for topic_idx, term_weights in enumerate(model.components_):\n",
    "        \n",
    "        # get the index of top-k terms\n",
    "        sorted_indx = term_weights.argsort()\n",
    "#         print(sorted_indx)\n",
    "#         topk_words = [(feature_names[i], term_weights[i])for i in sorted_indx[-no_top_words - 1:]]\n",
    "        topk_words = [feature_names[i] for i in sorted_indx[-no_top_words :]]\n",
    "        print(f\"Topic {topic_idx}:\", end=None)\n",
    "        print(\";\".join(topk_words))\n",
    "\n",
    "#         print(\" \".join([feature_names[i]\n",
    "#              for i in term_weights.argsort()[:-no_top_words - 1:-1]]))\n"
   ]
  },
  {
   "cell_type": "code",
   "execution_count": 11,
   "metadata": {},
   "outputs": [
    {
     "name": "stdout",
     "output_type": "stream",
     "text": [
      "Topic 0:\n",
      "mathematical;processing;study;field;ml;machine;natural;language;data;learning\n",
      "Topic 1:\n",
      "county;residents;film;metropolitan;million;largest;california;city;los;angeles\n",
      "Topic 2:\n",
      "american;largest;metropolitan;fitzgerald;area;novel;world;york;new;city\n",
      "Topic 3:\n",
      "approximately;birds;genome;lethal;humans;mild;coronaviruses;rna;viruses;cause\n",
      "Topic 4:\n",
      "typically;providing;knowledge;ability;representation;retrieval;interdisciplinary;understanding;primarily;generation\n"
     ]
    }
   ],
   "source": [
    "display_topics(lda, feature_names, 10)"
   ]
  },
  {
   "cell_type": "markdown",
   "metadata": {},
   "source": [
    "I have found the following output: \n",
    "\n",
    "```\n",
    "Topic 0:\n",
    "cause viruses coronaviruses rna birds genome lethal mild humans order\n",
    "Topic 1:\n",
    "language natural documents computers computer understanding processing speech recognition intelligence\n",
    "Topic 2:\n",
    "los angeles city learning machine data area largest california metropolitan\n",
    "Topic 3:\n",
    "new york city world largest area united metropolitan county states\n",
    "Topic 4:\n",
    "novel fitzgerald gatsby american great work following island believed title\n",
    "```\n",
    "\n",
    "If we observe the top-10 words in each of the topics, we could name each of topic as follows: \n",
    "\n",
    "* Topic 0: Corona Virus\n",
    "* Topic 1: Natural Language Processing\n",
    "* Topic 2: Los Angles \n",
    "* Topic 3: New York\n",
    "* Topic 4: The Great Gatsby Novel\n",
    "\n",
    "Naming topics are subjective, and there are no correct answers. \n"
   ]
  },
  {
   "cell_type": "markdown",
   "metadata": {},
   "source": [
    "### Visualizing a topic\n",
    "\n",
    "Word cloud or tag cloud is popular way to visualize topics. "
   ]
  },
  {
   "cell_type": "code",
   "execution_count": 12,
   "metadata": {},
   "outputs": [],
   "source": [
    "from wordcloud import WordCloud"
   ]
  },
  {
   "cell_type": "markdown",
   "metadata": {},
   "source": [
    "If the above code produces error, then install the package and execute the line again. "
   ]
  },
  {
   "cell_type": "code",
   "execution_count": 13,
   "metadata": {},
   "outputs": [
    {
     "name": "stdout",
     "output_type": "stream",
     "text": [
      "Requirement already satisfied: wordcloud in /opt/conda/lib/python3.7/site-packages (1.8.0)\n",
      "Requirement already satisfied: pillow in /opt/conda/lib/python3.7/site-packages (from wordcloud) (8.1.2)\n",
      "Requirement already satisfied: matplotlib in /opt/conda/lib/python3.7/site-packages (from wordcloud) (3.3.4)\n",
      "Requirement already satisfied: numpy>=1.6.1 in /opt/conda/lib/python3.7/site-packages (from wordcloud) (1.21.2)\n",
      "Requirement already satisfied: cycler>=0.10 in /opt/conda/lib/python3.7/site-packages (from matplotlib->wordcloud) (0.10.0)\n",
      "Requirement already satisfied: pyparsing!=2.0.4,!=2.1.2,!=2.1.6,>=2.0.3 in /opt/conda/lib/python3.7/site-packages (from matplotlib->wordcloud) (2.4.2)\n",
      "Requirement already satisfied: kiwisolver>=1.0.1 in /opt/conda/lib/python3.7/site-packages (from matplotlib->wordcloud) (1.1.0)\n",
      "Requirement already satisfied: python-dateutil>=2.1 in /opt/conda/lib/python3.7/site-packages (from matplotlib->wordcloud) (2.8.0)\n",
      "Requirement already satisfied: six in /opt/conda/lib/python3.7/site-packages (from cycler>=0.10->matplotlib->wordcloud) (1.12.0)\n",
      "Requirement already satisfied: setuptools in /opt/conda/lib/python3.7/site-packages (from kiwisolver>=1.0.1->matplotlib->wordcloud) (41.0.1)\n"
     ]
    }
   ],
   "source": [
    "!pip install wordcloud"
   ]
  },
  {
   "cell_type": "markdown",
   "metadata": {},
   "source": [
    "Create a list frequent terms with their weights."
   ]
  },
  {
   "cell_type": "code",
   "execution_count": 14,
   "metadata": {},
   "outputs": [
    {
     "name": "stdout",
     "output_type": "stream",
     "text": [
      "learning 8.199469328380458\n",
      "data 6.199280373115461\n",
      "language 6.195072108611561\n",
      "natural 5.707541203943174\n",
      "machine 4.199448901387799\n",
      "ml 3.199998744842521\n",
      "field 3.199998744842521\n",
      "study 3.199998744842521\n",
      "processing 3.1984518234841004\n",
      "mathematical 2.1999986817013473\n"
     ]
    }
   ],
   "source": [
    "topic = lda.components_[0]  # take the corona topic\n",
    "no_top_words = 10\n",
    "\n",
    "weights_lda = {}\n",
    "for i in topic.argsort()[:-no_top_words - 1:-1]:\n",
    "    print(feature_names[i], topic[i])\n",
    "    weights_lda[feature_names[i]] = topic[i]\n"
   ]
  },
  {
   "cell_type": "code",
   "execution_count": 15,
   "metadata": {},
   "outputs": [
    {
     "data": {
      "image/png": "[encoded data removed]",
      "text/plain": [
       "<PIL.Image.Image image mode=RGB size=400x200 at 0x7F4F826E2978>"
      ]
     },
     "execution_count": 15,
     "metadata": {},
     "output_type": "execute_result"
    }
   ],
   "source": [
    "wc = WordCloud(background_color='black')\n",
    "wc.generate_from_frequencies(weights_lda)\n",
    "wc.to_image()"
   ]
  },
  {
   "cell_type": "markdown",
   "metadata": {},
   "source": [
    "## Topic mixture in a document\n",
    "\n",
    "For each of the document, we can see how each topic is represented there. "
   ]
  },
  {
   "cell_type": "code",
   "execution_count": 16,
   "metadata": {},
   "outputs": [
    {
     "data": {
      "text/plain": [
       "array([[0.  , 0.  , 0.  , 0.99, 0.  ]])"
      ]
     },
     "execution_count": 16,
     "metadata": {},
     "output_type": "execute_result"
    }
   ],
   "source": [
    "topic_mixture = lda.transform(term_frequency[-1:])\n",
    "np.around(topic_mixture, decimals=2)"
   ]
  },
  {
   "cell_type": "markdown",
   "metadata": {},
   "source": [
    "This vector represent topic mixtures for the Corona Virus wiki page. As expected Topic 1 is the dominant one for this document. \n",
    "\n",
    "Remember the dimentionality reduction methods from the Applied Machien Learning course. **In a shallow sense, topic modeling could be considered as a dimensionality reduction method.** Here we represent a document as a topic mixture, and the number of topics is a way less than the number of terms in a document."
   ]
  },
  {
   "cell_type": "markdown",
   "metadata": {},
   "source": [
    "## Using a topic model for classification/clustering\n",
    "\n",
    "Although the aim of a topic model is to identify the underlying structure of a document in terms of topics, given a corpus, we can use this method for classification and clustering. E.g., we can identify topic mixture of a new document, and label the document with the topic with maximum proportion as a class label."
   ]
  },
  {
   "cell_type": "code",
   "execution_count": 17,
   "metadata": {},
   "outputs": [
    {
     "name": "stdout",
     "output_type": "stream",
     "text": [
      "[[0.06553103 0.24788421 0.66340731 0.02102406 0.00215339]]\n"
     ]
    }
   ],
   "source": [
    "chicago = wikipedia.page(\"Chicago\", auto_suggest=False)\n",
    "text7 = chicago.summary\n",
    "print(lda.transform(count_vectorizer.transform([text7])))"
   ]
  },
  {
   "cell_type": "markdown",
   "metadata": {},
   "source": [
    "The above code, we estimate the topic mixture of the \"Chicago\" wikipage and see that the dominant topic is Topic 4, which is City topic. \n",
    "\n",
    "Given the topic mixture of all of the documents, we can perform clustering on the documents in the topic space. "
   ]
  },
  {
   "cell_type": "markdown",
   "metadata": {},
   "source": [
    "## Evaluating a topic model and choosing the number of topics\n",
    "\n",
    "As topic model is an unsupervised method, it is hard to evaluate as there is no gold standard. Here are few approaches that are commonly used for the evaluation (see [here](https://towardsdatascience.com/evaluate-topic-model-in-python-latent-dirichlet-allocation-lda-7d57484bb5d0)):\n",
    "\n",
    "- Eye Balling Models\n",
    "    - Top N words\n",
    "    - Topics / Documents\n",
    "- Intrinsic Evaluation Metrics\n",
    "    - Capturing model semantics\n",
    "    - Topics interpretability\n",
    "- Human Judgements\n",
    "    - What is a topic\n",
    "- Extrinsic Evaluation Metrics/Evaluation at task\n",
    "    - Is model good at performing predefined tasks, such as classification\n",
    "\n",
    "\n",
    "Like clustering, we manually set number of topics for topic models. But it is possible to use an intrinsic or extrinsic measure to identify the desirable number of topics. One such intrinsic measure is **perplexity** score (aka predictive likelihood), and it measures the goodness-of-fit. The lower perplexity is better.   "
   ]
  },
  {
   "cell_type": "code",
   "execution_count": 18,
   "metadata": {},
   "outputs": [],
   "source": [
    "scores = []\n",
    "for n_topics in range(2, 7): \n",
    "    lda = LatentDirichletAllocation(n_components=n_topics, random_state=0)\n",
    "    lda.fit(term_frequency)    \n",
    "    score = lda.perplexity(term_frequency)\n",
    "    scores.append(score)"
   ]
  },
  {
   "cell_type": "code",
   "execution_count": 19,
   "metadata": {},
   "outputs": [
    {
     "data": {
      "text/plain": [
       "Text(0, 0.5, 'Perplexity')"
      ]
     },
     "execution_count": 19,
     "metadata": {},
     "output_type": "execute_result"
    },
    {
     "data": {
      "image/png": "[encoded data removed]",
      "text/plain": [
       "<Figure size 432x288 with 1 Axes>"
      ]
     },
     "metadata": {
      "needs_background": "light"
     },
     "output_type": "display_data"
    }
   ],
   "source": [
    "%matplotlib inline\n",
    "import matplotlib.pyplot as plt\n",
    "\n",
    "plt.plot(range(2,7), scores)\n",
    "plt.xlabel('Num of Topics')\n",
    "plt.ylabel('Perplexity')"
   ]
  },
  {
   "cell_type": "markdown",
   "metadata": {},
   "source": [
    "As shown in the above plot, we can pick either 4 or 5 as the total number of topics"
   ]
  },
  {
   "cell_type": "markdown",
   "metadata": {},
   "source": [
    "## Non-negative Matrix Factorization (NMF)\n",
    "\n",
    "We can repeat the above practice with a Non-negative Matrix Factorization (NMF) method. For LDA we use TF matrix as input, but NMF method can take either of TF and TFIDF matrix as input. This time we will create a TFIDF matrix for representing the documents and then apply NFM. \n",
    "\n"
   ]
  },
  {
   "cell_type": "code",
   "execution_count": 20,
   "metadata": {},
   "outputs": [],
   "source": [
    "tfidf_vectorizer = TfidfVectorizer(stop_words='english')\n",
    "tfidf = tfidf_vectorizer.fit_transform(docs)\n",
    "tfidf_feature_names = tfidf_vectorizer.get_feature_names()\n"
   ]
  },
  {
   "cell_type": "code",
   "execution_count": 21,
   "metadata": {},
   "outputs": [
    {
     "name": "stdout",
     "output_type": "stream",
     "text": [
      "Shape of tfidf matrix = (6, 635)\n",
      "Num of features identified = 635\n"
     ]
    }
   ],
   "source": [
    "print(f\"Shape of tfidf matrix = {tfidf.shape}\")\n",
    "print(f\"Num of features identified = {len(tfidf_feature_names)}\")"
   ]
  },
  {
   "cell_type": "markdown",
   "metadata": {},
   "source": [
    "### Fit an NMF"
   ]
  },
  {
   "cell_type": "code",
   "execution_count": 22,
   "metadata": {},
   "outputs": [
    {
     "name": "stderr",
     "output_type": "stream",
     "text": [
      "/opt/conda/lib/python3.7/site-packages/sklearn/decomposition/_nmf.py:315: FutureWarning: The 'init' value, when 'init=None' and n_components is less than n_samples and n_features, will be changed from 'nndsvd' to 'nndsvda' in 1.1 (renaming of 0.26).\n",
      "  \"'nndsvda' in 1.1 (renaming of 0.26).\"), FutureWarning)\n"
     ]
    },
    {
     "data": {
      "text/plain": [
       "NMF(n_components=5, random_state=0)"
      ]
     },
     "execution_count": 22,
     "metadata": {},
     "output_type": "execute_result"
    }
   ],
   "source": [
    "# Run NMF\n",
    "nmf = NMF(n_components=5, random_state=0)\n",
    "nmf.fit(term_frequency)"
   ]
  },
  {
   "cell_type": "markdown",
   "metadata": {},
   "source": [
    "### Display topics"
   ]
  },
  {
   "cell_type": "code",
   "execution_count": 23,
   "metadata": {},
   "outputs": [
    {
     "name": "stdout",
     "output_type": "stream",
     "text": [
      "Topic 0:\n",
      "united;population;home;largest;metropolitan;area;world;new;york;city\n",
      "Topic 1:\n",
      "county;san;film;metropolitan;largest;million;california;city;los;angeles\n",
      "Topic 2:\n",
      "considered;title;literary;copies;work;great;gatsby;american;fitzgerald;novel\n",
      "Topic 3:\n",
      "mathematical;processing;field;ml;study;machine;natural;language;data;learning\n",
      "Topic 4:\n",
      "approximately;birds;lethal;mild;humans;genome;rna;coronaviruses;viruses;cause\n"
     ]
    }
   ],
   "source": [
    "display_topics(nmf, tfidf_feature_names, 10)"
   ]
  },
  {
   "cell_type": "markdown",
   "metadata": {},
   "source": [
    "Let's visualize corona topic. "
   ]
  },
  {
   "cell_type": "code",
   "execution_count": 24,
   "metadata": {},
   "outputs": [
    {
     "data": {
      "text/plain": [
       "{'cause': 1.4407627712798798,\n",
       " 'viruses': 1.1526102170239036,\n",
       " 'coronaviruses': 0.8644576627679277,\n",
       " 'rna': 0.8644576627679277,\n",
       " 'genome': 0.5763051085119518,\n",
       " 'humans': 0.5763051085119518,\n",
       " 'mild': 0.5763051085119518,\n",
       " 'lethal': 0.5763051085119518,\n",
       " 'birds': 0.5763051085119518,\n",
       " 'approximately': 0.28821320198356404}"
      ]
     },
     "execution_count": 24,
     "metadata": {},
     "output_type": "execute_result"
    }
   ],
   "source": [
    "topic = nmf.components_[4]  # take the corona topic\n",
    "no_top_words = 10\n",
    "\n",
    "weights_nmf = {}\n",
    "for i in topic.argsort()[:-no_top_words - 1:-1]:\n",
    "    weights_nmf[tfidf_feature_names[i]] = topic[i]\n",
    "weights_nmf"
   ]
  },
  {
   "cell_type": "code",
   "execution_count": 25,
   "metadata": {},
   "outputs": [
    {
     "data": {
      "image/png": "[encoded data removed]",
      "text/plain": [
       "<PIL.Image.Image image mode=RGB size=400x200 at 0x7F4F84822470>"
      ]
     },
     "execution_count": 25,
     "metadata": {},
     "output_type": "execute_result"
    }
   ],
   "source": [
    "wc = WordCloud(background_color='black')\n",
    "wc.generate_from_frequencies(weights_nmf)\n",
    "wc.to_image()"
   ]
  },
  {
   "cell_type": "code",
   "execution_count": 26,
   "metadata": {},
   "outputs": [
    {
     "data": {
      "text/html": [
       "<div>\n",
       "<style scoped>\n",
       "    .dataframe tbody tr th:only-of-type {\n",
       "        vertical-align: middle;\n",
       "    }\n",
       "\n",
       "    .dataframe tbody tr th {\n",
       "        vertical-align: top;\n",
       "    }\n",
       "\n",
       "    .dataframe thead th {\n",
       "        text-align: right;\n",
       "    }\n",
       "</style>\n",
       "<table border=\"1\" class=\"dataframe\">\n",
       "  <thead>\n",
       "    <tr style=\"text-align: right;\">\n",
       "      <th></th>\n",
       "      <th>0</th>\n",
       "      <th>1</th>\n",
       "      <th>0</th>\n",
       "      <th>1</th>\n",
       "    </tr>\n",
       "  </thead>\n",
       "  <tbody>\n",
       "    <tr>\n",
       "      <th>0</th>\n",
       "      <td>learning</td>\n",
       "      <td>8.199469</td>\n",
       "      <td>cause</td>\n",
       "      <td>1.440763</td>\n",
       "    </tr>\n",
       "    <tr>\n",
       "      <th>1</th>\n",
       "      <td>data</td>\n",
       "      <td>6.199280</td>\n",
       "      <td>viruses</td>\n",
       "      <td>1.152610</td>\n",
       "    </tr>\n",
       "    <tr>\n",
       "      <th>2</th>\n",
       "      <td>language</td>\n",
       "      <td>6.195072</td>\n",
       "      <td>coronaviruses</td>\n",
       "      <td>0.864458</td>\n",
       "    </tr>\n",
       "    <tr>\n",
       "      <th>3</th>\n",
       "      <td>natural</td>\n",
       "      <td>5.707541</td>\n",
       "      <td>rna</td>\n",
       "      <td>0.864458</td>\n",
       "    </tr>\n",
       "    <tr>\n",
       "      <th>4</th>\n",
       "      <td>machine</td>\n",
       "      <td>4.199449</td>\n",
       "      <td>genome</td>\n",
       "      <td>0.576305</td>\n",
       "    </tr>\n",
       "    <tr>\n",
       "      <th>5</th>\n",
       "      <td>ml</td>\n",
       "      <td>3.199999</td>\n",
       "      <td>humans</td>\n",
       "      <td>0.576305</td>\n",
       "    </tr>\n",
       "    <tr>\n",
       "      <th>6</th>\n",
       "      <td>field</td>\n",
       "      <td>3.199999</td>\n",
       "      <td>mild</td>\n",
       "      <td>0.576305</td>\n",
       "    </tr>\n",
       "    <tr>\n",
       "      <th>7</th>\n",
       "      <td>study</td>\n",
       "      <td>3.199999</td>\n",
       "      <td>lethal</td>\n",
       "      <td>0.576305</td>\n",
       "    </tr>\n",
       "    <tr>\n",
       "      <th>8</th>\n",
       "      <td>processing</td>\n",
       "      <td>3.198452</td>\n",
       "      <td>birds</td>\n",
       "      <td>0.576305</td>\n",
       "    </tr>\n",
       "    <tr>\n",
       "      <th>9</th>\n",
       "      <td>mathematical</td>\n",
       "      <td>2.199999</td>\n",
       "      <td>approximately</td>\n",
       "      <td>0.288213</td>\n",
       "    </tr>\n",
       "  </tbody>\n",
       "</table>\n",
       "</div>"
      ],
      "text/plain": [
       "              0         1              0         1\n",
       "0      learning  8.199469          cause  1.440763\n",
       "1          data  6.199280        viruses  1.152610\n",
       "2      language  6.195072  coronaviruses  0.864458\n",
       "3       natural  5.707541            rna  0.864458\n",
       "4       machine  4.199449         genome  0.576305\n",
       "5            ml  3.199999         humans  0.576305\n",
       "6         field  3.199999           mild  0.576305\n",
       "7         study  3.199999         lethal  0.576305\n",
       "8    processing  3.198452          birds  0.576305\n",
       "9  mathematical  2.199999  approximately  0.288213"
      ]
     },
     "execution_count": 26,
     "metadata": {},
     "output_type": "execute_result"
    }
   ],
   "source": [
    "import pandas as pd\n",
    "df1 = pd.DataFrame(weights_lda.items())\n",
    "df2 = pd.DataFrame(weights_nmf.items())\n",
    "\n",
    "df = pd.concat([df1, df2], axis=1)\n",
    "df"
   ]
  },
  {
   "cell_type": "markdown",
   "metadata": {},
   "source": [
    "We can see both LDA and NMF has the same word set for the Corona Virus topic, although the ordering is little bit different.\n",
    "\n",
    "---\n",
    "\n",
    "# Save your notebook, then `File > Close and Halt`"
   ]
  }
 ],
 "metadata": {
  "kernelspec": {
   "display_name": "Python 3",
   "language": "python",
   "name": "python3"
  },
  "language_info": {
   "codemirror_mode": {
    "name": "ipython",
    "version": 3
   },
   "file_extension": ".py",
   "mimetype": "text/x-python",
   "name": "python",
   "nbconvert_exporter": "python",
   "pygments_lexer": "ipython3",
   "version": "3.7.3"
  },
  "latex_envs": {
   "LaTeX_envs_menu_present": true,
   "bibliofile": "biblio.bib",
   "cite_by": "apalike",
   "current_citInitial": 1,
   "eqLabelWithNumbers": true,
   "eqNumInitial": 1,
   "labels_anchors": false,
   "latex_user_defs": false,
   "report_style_numbering": false,
   "user_envs_cfg": false
  },
  "toc": {
   "colors": {
    "hover_highlight": "#DAA520",
    "running_highlight": "#FF0000",
    "selected_highlight": "#FFD700"
   },
   "moveMenuLeft": true,
   "nav_menu": {
    "height": "230.17px",
    "width": "251.989px"
   },
   "navigate_menu": true,
   "number_sections": true,
   "sideBar": true,
   "threshold": 4,
   "toc_cell": true,
   "toc_section_display": "block",
   "toc_window_display": true
  }
 },
 "nbformat": 4,
 "nbformat_minor": 4
}
